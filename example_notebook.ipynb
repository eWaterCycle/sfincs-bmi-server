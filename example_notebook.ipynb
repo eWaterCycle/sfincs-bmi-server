{
 "cells": [
  {
   "cell_type": "markdown",
   "metadata": {},
   "source": [
    "## SFINCS - grpc4bmi example\n",
    "\n",
    "This notebook shows how the SFINCS BMI server built in this package can be used\n",
    "with grpc4bmi. It assumes you have built the docker container with\n",
    "\n",
    "```\n",
    "cd src\n",
    "docker build -t sfincs-bmiserver .\n",
    "```"
   ]
  },
  {
   "cell_type": "markdown",
   "metadata": {},
   "source": [
    "### Requirements\n",
    "\n",
    "We use grpc4bmi to communicate with the BMI model inside a container."
   ]
  },
  {
   "cell_type": "code",
   "execution_count": 1,
   "metadata": {},
   "outputs": [],
   "source": [
    "# pip installa grpc4bmi"
   ]
  },
  {
   "cell_type": "markdown",
   "metadata": {},
   "source": [
    "### Case specification"
   ]
  },
  {
   "cell_type": "markdown",
   "metadata": {},
   "source": [
    "Lets use the example parameter set in https://github.com/Deltares/hydromt_sfincs/tree/main/examples/sfincs_compound"
   ]
  },
  {
   "cell_type": "code",
   "execution_count": 2,
   "metadata": {},
   "outputs": [],
   "source": [
    "# !git clone https://github.com/Deltares/hydromt_sfincs/"
   ]
  },
  {
   "cell_type": "markdown",
   "metadata": {},
   "source": [
    "Example above returns 0 for each time method, which is incorrect so we will use the alternate parameter set below"
   ]
  },
  {
   "cell_type": "code",
   "execution_count": 3,
   "metadata": {},
   "outputs": [],
   "source": [
    "# !cp -r ~/dcache/parameter-sets/sfincs_humber ./\n",
    "# !cp -r ~/ewatercycle/sfincs_humber ./"
   ]
  },
  {
   "cell_type": "code",
   "execution_count": 4,
   "metadata": {},
   "outputs": [],
   "source": [
    "from pathlib import Path\n",
    "parameter_set_dir = Path(\"sfincs_humber\").absolute()\n",
    "parameter_set_dir\n",
    "import numpy as np"
   ]
  },
  {
   "cell_type": "code",
   "execution_count": 5,
   "metadata": {},
   "outputs": [
    {
     "name": "stdout",
     "output_type": "stream",
     "text": [
      "313510\n"
     ]
    },
    {
     "data": {
      "text/plain": [
       "array([313509,    123,    124, ..., 803648, 803649, 803650], dtype=int32)"
      ]
     },
     "execution_count": 5,
     "metadata": {},
     "output_type": "execute_result"
    }
   ],
   "source": [
    "# see the sfincs internal data structure:\n",
    "# note: the first value is the number of points (`np` in fortran code) and the length of our other arrays\n",
    "indices = np.fromfile('sfincs_humber/sfincs.ind', dtype='int32')\n",
    "print(len(indices))  \n",
    "indices"
   ]
  },
  {
   "cell_type": "markdown",
   "metadata": {},
   "source": [
    "### Instantiate the model\n",
    "\n",
    "This starts the model container and connects the client to it.\n",
    "We can already get the component name"
   ]
  },
  {
   "cell_type": "code",
   "execution_count": null,
   "metadata": {},
   "outputs": [],
   "source": []
  },
  {
   "cell_type": "code",
   "execution_count": 6,
   "metadata": {},
   "outputs": [],
   "source": [
    "# Option 1: Build and run the container and connect to it\n",
    "\n",
    "# from grpc4bmi.bmi_client_docker import BmiClientDocker\n",
    "# model = BmiClientDocker(image='sfincs-bmiserver_tim', image_port=50051, work_dir=str(parameter_set_dir), delay=1)\n",
    "\n",
    "# Option 2: Connect to the devcontainer directly, easy for development\n",
    "# see https://github.com/eWaterCycle/sfincs-bmi-server#development-container\n",
    "from grpc4bmi.bmi_grpc_client import BmiClient\n",
    "import grpc\n",
    "model = BmiClient(grpc.insecure_channel(\"localhost:50051\"))"
   ]
  },
  {
   "cell_type": "code",
   "execution_count": 7,
   "metadata": {},
   "outputs": [
    {
     "data": {
      "text/plain": [
       "'Sfincs hydrodynamic model (C)'"
      ]
     },
     "execution_count": 7,
     "metadata": {},
     "output_type": "execute_result"
    }
   ],
   "source": [
    "model.get_component_name()"
   ]
  },
  {
   "cell_type": "markdown",
   "metadata": {},
   "source": [
    "### Interact with the model\n",
    "\n",
    "We can initialize the model and see that it had effect: time variables seem to be set from the input file"
   ]
  },
  {
   "cell_type": "code",
   "execution_count": 8,
   "metadata": {},
   "outputs": [
    {
     "data": {
      "text/plain": []
     },
     "execution_count": 8,
     "metadata": {},
     "output_type": "execute_result"
    }
   ],
   "source": [
    "model.initialize(str(parameter_set_dir / 'sfincs.inp'))"
   ]
  },
  {
   "cell_type": "code",
   "execution_count": 9,
   "metadata": {},
   "outputs": [],
   "source": [
    "model.update()"
   ]
  },
  {
   "cell_type": "code",
   "execution_count": 10,
   "metadata": {},
   "outputs": [
    {
     "data": {
      "text/plain": [
       "{'get_current_time': 950400.0,\n",
       " 'get_start_time': 950400.0,\n",
       " 'get_end_time': 950400.0,\n",
       " 'get_time_units': 's',\n",
       " 'get_time_step': 9.999999974752427e-07}"
      ]
     },
     "execution_count": 10,
     "metadata": {},
     "output_type": "execute_result"
    }
   ],
   "source": [
    "{\n",
    "    'get_current_time': model.get_current_time(), \n",
    "    'get_start_time':model.get_start_time(),\n",
    "    'get_end_time': model.get_end_time(), \n",
    "    'get_time_units': model.get_time_units(), \n",
    "    'get_time_step': model.get_time_step(),\n",
    "}"
   ]
  },
  {
   "cell_type": "code",
   "execution_count": 11,
   "metadata": {},
   "outputs": [
    {
     "data": {
      "text/plain": [
       "{'get_input_item_count': 6,\n",
       " 'get_output_item_count': 10,\n",
       " 'get_input_var_names': ('zs', 'zb', 'qsrc_1', 'qsrc_2', 'tsrc', 'zst_bnd'),\n",
       " 'get_output_var_names': ('z_xz',\n",
       "  'z_yz',\n",
       "  'zs',\n",
       "  'zb',\n",
       "  'qsrc_1',\n",
       "  'qsrc_2',\n",
       "  'xsrc',\n",
       "  'ysrc',\n",
       "  'tsrc',\n",
       "  'zst_bnd'),\n",
       " 'get_var_grid': 0,\n",
       " 'get_var_itemsize': 4,\n",
       " 'get_var_nbytes': 1254036,\n",
       " 'get_var_type': 'float32',\n",
       " 'get_var_units': 'm above reference level'}"
      ]
     },
     "execution_count": 11,
     "metadata": {},
     "output_type": "execute_result"
    }
   ],
   "source": [
    "# Var methods\n",
    "{\n",
    "    'get_input_item_count': model.get_input_item_count(),\n",
    "    'get_output_item_count': model.get_output_item_count(),\n",
    "    'get_input_var_names': model.get_input_var_names(),\n",
    "    'get_output_var_names': model.get_output_var_names(),\n",
    "    'get_var_grid': model.get_var_grid('zs'),\n",
    "    'get_var_itemsize': model.get_var_itemsize('zs'),\n",
    "    'get_var_nbytes': model.get_var_nbytes('zs'),\n",
    "    'get_var_type': model.get_var_type('zs'),\n",
    "    'get_var_units': model.get_var_units('zs'),\n",
    "}"
   ]
  },
  {
   "cell_type": "code",
   "execution_count": 12,
   "metadata": {},
   "outputs": [
    {
     "data": {
      "text/plain": [
       "{'get_var_grid': 1,\n",
       " 'get_var_itemsize': 4,\n",
       " 'get_var_nbytes': 100,\n",
       " 'get_var_type': 'float32',\n",
       " 'get_var_units': None}"
      ]
     },
     "execution_count": 12,
     "metadata": {},
     "output_type": "execute_result"
    }
   ],
   "source": [
    "{\n",
    "    'get_var_grid': model.get_var_grid('qsrc_1'),\n",
    "    'get_var_itemsize': model.get_var_itemsize('qsrc_1'),\n",
    "    'get_var_nbytes': model.get_var_nbytes('qsrc_1'),\n",
    "    'get_var_type': model.get_var_type('qsrc_1'),\n",
    "    'get_var_units': model.get_var_units('qsrc_1'),\n",
    "}"
   ]
  },
  {
   "cell_type": "code",
   "execution_count": 13,
   "metadata": {},
   "outputs": [],
   "source": [
    "# model.get_var_location('zs')\n",
    "# Throws grpc4bmi erorr, maybe because enum in C and Python not matching"
   ]
  },
  {
   "cell_type": "code",
   "execution_count": 14,
   "metadata": {},
   "outputs": [
    {
     "data": {
      "text/plain": [
       "array([25])"
      ]
     },
     "execution_count": 14,
     "metadata": {},
     "output_type": "execute_result"
    }
   ],
   "source": [
    "# calling multiple times gives different results\n",
    "model.get_grid_shape(1, np.zeros((1), dtype=int))"
   ]
  },
  {
   "cell_type": "code",
   "execution_count": 15,
   "metadata": {},
   "outputs": [
    {
     "data": {
      "text/plain": [
       "{'get_grid_rank': 1,\n",
       " 'get_grid_size': 313509,\n",
       " 'get_grid_type': 'rectilinear',\n",
       " 'get_grid_shape': array([313509])}"
      ]
     },
     "execution_count": 15,
     "metadata": {},
     "output_type": "execute_result"
    }
   ],
   "source": [
    "# Grid methods\n",
    "grid_id = 0\n",
    "{\n",
    "    'get_grid_rank': model.get_grid_rank(grid_id),\n",
    "    'get_grid_size': model.get_grid_size(grid_id),\n",
    "    'get_grid_type': model.get_grid_type(grid_id),\n",
    "    'get_grid_shape': model.get_grid_shape(grid_id, np.empty(model.get_grid_rank(grid_id), dtype=int))\n",
    "}\n"
   ]
  },
  {
   "cell_type": "code",
   "execution_count": 16,
   "metadata": {},
   "outputs": [
    {
     "data": {
      "text/plain": [
       "array([313509])"
      ]
     },
     "execution_count": 16,
     "metadata": {},
     "output_type": "execute_result"
    }
   ],
   "source": [
    "shape = model.get_grid_shape(0, np.empty(1, dtype=int))\n",
    "shape"
   ]
  },
  {
   "cell_type": "code",
   "execution_count": 17,
   "metadata": {},
   "outputs": [
    {
     "data": {
      "text/plain": [
       "array([1.2735e+02, 1.3934e+02, 2.3900e+01, 1.5710e+01, 7.8300e+00,\n",
       "       4.1100e+00, 3.6500e+00, 9.3000e-01, 1.3300e+00, 3.9000e-01,\n",
       "       4.6000e-01, 3.2000e-01, 2.5000e-01, 1.4000e-01, 1.6000e-01,\n",
       "       1.3000e-01, 2.0000e-01, 2.4000e-01, 2.5000e-01, 2.3000e-01,\n",
       "       1.3000e-01, 1.6000e-01, 1.2000e-01, 1.9000e-01, 8.0000e-02],\n",
       "      dtype=float32)"
      ]
     },
     "execution_count": 17,
     "metadata": {},
     "output_type": "execute_result"
    }
   ],
   "source": [
    "model.get_value('qsrc_1', np.zeros(25, dtype=np.float32))\n",
    "# model.set_value('qsrc_1', 1.5*np.ones(25, dtype=np.float32))\n",
    "model.get_value('qsrc_1', np.zeros(25, dtype=np.float32))\n",
    "model.get_value('qsrc_1', np.zeros(25, dtype=np.float32))"
   ]
  },
  {
   "cell_type": "code",
   "execution_count": 18,
   "metadata": {},
   "outputs": [
    {
     "data": {
      "text/plain": [
       "array([9.641531 , 9.0527935, 8.568492 , ..., 0.       , 0.       ,\n",
       "       0.       ], dtype=float32)"
      ]
     },
     "execution_count": 18,
     "metadata": {},
     "output_type": "execute_result"
    }
   ],
   "source": [
    "model.get_value('zs', np.zeros(shape[0], dtype=np.float32))"
   ]
  },
  {
   "cell_type": "code",
   "execution_count": 19,
   "metadata": {},
   "outputs": [
    {
     "data": {
      "text/plain": [
       "array([1.2740e+02, 1.3748e+02, 2.3550e+01, 1.5490e+01, 7.7400e+00,\n",
       "       4.1200e+00, 3.6100e+00, 9.2000e-01, 1.3100e+00, 3.9000e-01,\n",
       "       4.6000e-01, 3.2000e-01, 2.5000e-01, 1.4000e-01, 1.6000e-01,\n",
       "       1.3000e-01, 2.0000e-01, 2.4000e-01, 2.4000e-01, 2.3000e-01,\n",
       "       1.2000e-01, 1.6000e-01, 1.1000e-01, 1.8000e-01, 8.0000e-02],\n",
       "      dtype=float32)"
      ]
     },
     "execution_count": 19,
     "metadata": {},
     "output_type": "execute_result"
    }
   ],
   "source": [
    "model.get_value('qsrc_2', np.zeros(25, dtype=np.float32))"
   ]
  },
  {
   "cell_type": "code",
   "execution_count": 20,
   "metadata": {},
   "outputs": [
    {
     "data": {
      "text/plain": [
       "array([ 2., 10.], dtype=float32)"
      ]
     },
     "execution_count": 20,
     "metadata": {},
     "output_type": "execute_result"
    }
   ],
   "source": [
    "model.get_value('tsrc', np.zeros(model.get_grid_shape(model.get_var_grid('tsrc'), np.empty(1, dtype=int)), dtype=np.float32))\n",
    "model.set_value('tsrc', np.array([2, 10], dtype=np.float32))\n",
    "model.get_value('tsrc', np.zeros(model.get_grid_shape(model.get_var_grid('tsrc'), np.empty(1, dtype=int)), dtype=np.float32))"
   ]
  },
  {
   "cell_type": "code",
   "execution_count": 21,
   "metadata": {},
   "outputs": [],
   "source": [
    "# model.get_value('xsrc', np.zeros(25, dtype=np.float32))\n",
    "# model.get_grid_x(0, np.empty(shape[0], dtype=float32)\n",
    "# Gives segmentation fault which kills container"
   ]
  },
  {
   "cell_type": "code",
   "execution_count": 22,
   "metadata": {},
   "outputs": [],
   "source": [
    "# Check consistency of return values\n",
    "attempt_1 = model.get_value('z_xz', np.zeros(shape[0], dtype=np.float32))\n",
    "attempt_2 = model.get_value('z_xz', np.zeros(shape[0], dtype=np.float32))\n",
    "np.testing.assert_allclose(attempt_1, attempt_2)"
   ]
  },
  {
   "cell_type": "code",
   "execution_count": 23,
   "metadata": {},
   "outputs": [
    {
     "data": {
      "text/plain": [
       "array([25])"
      ]
     },
     "execution_count": 23,
     "metadata": {},
     "output_type": "execute_result"
    }
   ],
   "source": [
    " model.get_grid_shape(1, np.empty(1, dtype=int))"
   ]
  },
  {
   "cell_type": "code",
   "execution_count": 24,
   "metadata": {},
   "outputs": [
    {
     "name": "stdout",
     "output_type": "stream",
     "text": [
      "float32 4 100 25\n"
     ]
    }
   ],
   "source": [
    "print(\n",
    "    model.get_var_type('xsrc'),\n",
    "    item_size := model.get_var_itemsize('xsrc'),\n",
    "    total_size := model.get_var_nbytes('xsrc'),\n",
    "    total_size // item_size,\n",
    ")"
   ]
  },
  {
   "cell_type": "code",
   "execution_count": 25,
   "metadata": {},
   "outputs": [
    {
     "data": {
      "text/plain": [
       "(array([1.89096e+05, 8.22210e+04, 2.49120e+04, 1.15470e+04, 4.16400e+03,\n",
       "        1.15700e+03, 2.55000e+02, 9.30000e+01, 5.60000e+01, 8.00000e+00]),\n",
       " array([ 0.        ,  4.55390024,  9.10780048, 13.66170025, 18.21560097,\n",
       "        22.76950073, 27.3234005 , 31.87730026, 36.43120193, 40.98509979,\n",
       "        45.53900146]),\n",
       " <BarContainer object of 10 artists>)"
      ]
     },
     "execution_count": 25,
     "metadata": {},
     "output_type": "execute_result"
    },
    {
     "data": {
      "image/png": "[encoded data removed]",
      "text/plain": [
       "<Figure size 640x480 with 1 Axes>"
      ]
     },
     "metadata": {},
     "output_type": "display_data"
    }
   ],
   "source": [
    "import matplotlib.pyplot as plt\n",
    "plt.hist(model.get_value('zs', np.zeros(shape[0], dtype=np.float32)))"
   ]
  },
  {
   "cell_type": "code",
   "execution_count": 26,
   "metadata": {
    "scrolled": true
   },
   "outputs": [],
   "source": [
    "# model.get_value_at_indices('z_xz', np.array([0, 1, 2], dtype='int32'), np.zeros(3, dtype=np.float32))\n",
    "# segfault"
   ]
  },
  {
   "cell_type": "code",
   "execution_count": 27,
   "metadata": {},
   "outputs": [
    {
     "data": {
      "text/plain": [
       "950410.499130249"
      ]
     },
     "execution_count": 27,
     "metadata": {},
     "output_type": "execute_result"
    }
   ],
   "source": [
    "model.get_current_time()\n",
    "model.update_until(10.)\n",
    "model.get_current_time()\n"
   ]
  },
  {
   "cell_type": "code",
   "execution_count": 28,
   "metadata": {},
   "outputs": [
    {
     "name": "stdout",
     "output_type": "stream",
     "text": [
      "950410.499130249\n",
      "950415.7486953735\n",
      "950420.998260498\n",
      "950426.2478256226\n",
      "950431.4973907471\n",
      "950436.7469558716\n",
      "950441.9965209961\n",
      "950447.2460861206\n",
      "950452.4956512451\n",
      "950457.7452163696\n"
     ]
    }
   ],
   "source": [
    "for i in range(10):\n",
    "    print(model.get_current_time())\n",
    "    model.update()\n",
    "    "
   ]
  },
  {
   "cell_type": "code",
   "execution_count": 29,
   "metadata": {},
   "outputs": [
    {
     "data": {
      "text/plain": [
       "(array([1.50933e+05, 1.05755e+05, 3.64440e+04, 1.33810e+04, 5.07600e+03,\n",
       "        1.46100e+03, 2.92000e+02, 9.90000e+01, 5.90000e+01, 9.00000e+00]),\n",
       " array([-1.27353752,  3.40771627,  8.08897018, 12.77022457, 17.45147896,\n",
       "        22.13273239, 26.81398582, 31.49523926, 36.1764946 , 40.85774612,\n",
       "        45.53900146]),\n",
       " <BarContainer object of 10 artists>)"
      ]
     },
     "execution_count": 29,
     "metadata": {},
     "output_type": "execute_result"
    },
    {
     "data": {
      "image/png": "[encoded data removed]",
      "text/plain": [
       "<Figure size 640x480 with 1 Axes>"
      ]
     },
     "metadata": {},
     "output_type": "display_data"
    }
   ],
   "source": [
    "shape = model.get_grid_shape(0, np.empty(2, dtype=int))\n",
    "model.get_value('zs', np.zeros(shape[0]))\n",
    "plt.hist(model.get_value('zs', np.zeros(shape[0], dtype=np.float32)))"
   ]
  },
  {
   "cell_type": "code",
   "execution_count": null,
   "metadata": {},
   "outputs": [],
   "source": []
  }
 ],
 "metadata": {
  "kernelspec": {
   "display_name": "Python 3 (ipykernel)",
   "language": "python",
   "name": "python3"
  },
  "language_info": {
   "codemirror_mode": {
    "name": "ipython",
    "version": 3
   },
   "file_extension": ".py",
   "mimetype": "text/x-python",
   "name": "python",
   "nbconvert_exporter": "python",
   "pygments_lexer": "ipython3",
   "version": "3.10.9"
  }
 },
 "nbformat": 4,
 "nbformat_minor": 4
}
